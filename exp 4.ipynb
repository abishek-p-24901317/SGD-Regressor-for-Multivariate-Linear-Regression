{
 "cells": [
  {
   "cell_type": "code",
   "execution_count": 2,
   "id": "7ac2b32b",
   "metadata": {},
   "outputs": [
    {
     "name": "stdout",
     "output_type": "stream",
     "text": [
      "HEAD:\n",
      "   MedInc  HouseAge  AveRooms  AveBedrms  Population  AveOccup  Latitude  \\\n",
      "0  8.3252      41.0  6.984127   1.023810       322.0  2.555556     37.88   \n",
      "1  8.3014      21.0  6.238137   0.971880      2401.0  2.109842     37.86   \n",
      "2  7.2574      52.0  8.288136   1.073446       496.0  2.802260     37.85   \n",
      "3  5.6431      52.0  5.817352   1.073059       558.0  2.547945     37.85   \n",
      "4  3.8462      52.0  6.281853   1.081081       565.0  2.181467     37.85   \n",
      "\n",
      "   Longitude  HousingPrice  \n",
      "0    -122.23         4.526  \n",
      "1    -122.22         3.585  \n",
      "2    -122.24         3.521  \n",
      "3    -122.25         3.413  \n",
      "4    -122.25         3.422  \n",
      "Mean squared Error: 1.7579714917482323\n",
      "\n",
      "Predictions:\n",
      " [[3.0077703  0.81459677]\n",
      " [3.04782276 1.73293628]\n",
      " [2.66778168 2.55099244]\n",
      " [3.00066752 2.83064722]\n",
      " [2.84112006 2.59062154]]\n"
     ]
    }
   ],
   "source": [
    "import numpy as np\n",
    "import pandas as pd\n",
    "from sklearn.datasets import fetch_california_housing\n",
    "from sklearn.linear_model import SGDRegressor\n",
    "from sklearn.multioutput import MultiOutputRegressor\n",
    "from sklearn.model_selection import train_test_split\n",
    "from sklearn.metrics import mean_squared_error\n",
    "from sklearn.preprocessing import StandardScaler\n",
    "\n",
    "dataset= fetch_california_housing()\n",
    "df=pd.DataFrame(dataset.data,columns=dataset.feature_names)\n",
    "df['HousingPrice']=dataset.target\n",
    "print(\"HEAD:\")\n",
    "print(df.head())\n",
    "x=df.drop(columns=['AveOccup','HousingPrice'])\n",
    "y=df[['AveOccup','HousingPrice']]\n",
    "x_train,x_test,y_train,y_test=train_test_split(x,y,test_size=0.2,random_state=42)\n",
    "scaler_x=StandardScaler()\n",
    "scaler_y=StandardScaler()\n",
    "\n",
    "x_train=scaler_x.fit_transform(x_test)\n",
    "x_test=scaler_x.transform(x_test)\n",
    "y_train=scaler_y.fit_transform(y_test)\n",
    "y_test=scaler_y.transform(y_test)\n",
    "sgd=SGDRegressor(max_iter=1000,tol=1e-3)\n",
    "multi_output_sgd=MultiOutputRegressor(sgd)\n",
    "multi_output_sgd.fit(x_train,y_train)\n",
    "y_pred=multi_output_sgd.predict(x_test)\n",
    "y_pred=scaler_y.inverse_transform(y_pred)\n",
    "y_test=scaler_y.inverse_transform(y_test)\n",
    "mse=mean_squared_error(y_test,y_pred)\n",
    "print(\"Mean squared Error:\",mse)\n",
    "print(\"\\nPredictions:\\n\",y_pred[:5])"
   ]
  },
  {
   "cell_type": "code",
   "execution_count": null,
   "id": "1d42d4eb",
   "metadata": {},
   "outputs": [],
   "source": []
  }
 ],
 "metadata": {
  "kernelspec": {
   "display_name": "Python 3 (ipykernel)",
   "language": "python",
   "name": "python3"
  },
  "language_info": {
   "codemirror_mode": {
    "name": "ipython",
    "version": 3
   },
   "file_extension": ".py",
   "mimetype": "text/x-python",
   "name": "python",
   "nbconvert_exporter": "python",
   "pygments_lexer": "ipython3",
   "version": "3.11.3"
  }
 },
 "nbformat": 4,
 "nbformat_minor": 5
}
